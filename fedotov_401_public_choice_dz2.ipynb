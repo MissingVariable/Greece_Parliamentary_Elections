{
 "cells": [
  {
   "cell_type": "code",
   "execution_count": 1,
   "metadata": {},
   "outputs": [],
   "source": [
    "import pandas as pd\n",
    "import numpy as np\n",
    "import math as m\n",
    "from itertools import combinations\n",
    "\n",
    "DATA_PATH = './data/Election results.xlsx'"
   ]
  },
  {
   "cell_type": "markdown",
   "metadata": {},
   "source": [
    "Для начала загрузим табличку с данными, которую я собрал по выборам в парламент греции в 2019 году."
   ]
  },
  {
   "cell_type": "code",
   "execution_count": 2,
   "metadata": {},
   "outputs": [],
   "source": [
    "data = pd.read_excel(DATA_PATH, sheet_name='2012')\n",
    "parties = data['party']\n",
    "votes_share = data.votes/sum(data.votes)\n",
    "data['votes_per'] = votes_share\n",
    "data.set_index('party', inplace = True)"
   ]
  },
  {
   "cell_type": "code",
   "execution_count": 3,
   "metadata": {},
   "outputs": [
    {
     "data": {
      "text/html": [
       "<div>\n",
       "<style scoped>\n",
       "    .dataframe tbody tr th:only-of-type {\n",
       "        vertical-align: middle;\n",
       "    }\n",
       "\n",
       "    .dataframe tbody tr th {\n",
       "        vertical-align: top;\n",
       "    }\n",
       "\n",
       "    .dataframe thead th {\n",
       "        text-align: right;\n",
       "    }\n",
       "</style>\n",
       "<table border=\"1\" class=\"dataframe\">\n",
       "  <thead>\n",
       "    <tr style=\"text-align: right;\">\n",
       "      <th></th>\n",
       "      <th>votes</th>\n",
       "      <th>votes_per</th>\n",
       "      <th>seats</th>\n",
       "      <th>diff</th>\n",
       "    </tr>\n",
       "    <tr>\n",
       "      <th>party</th>\n",
       "      <th></th>\n",
       "      <th></th>\n",
       "      <th></th>\n",
       "      <th></th>\n",
       "    </tr>\n",
       "  </thead>\n",
       "  <tbody>\n",
       "    <tr>\n",
       "      <th>New Democracy</th>\n",
       "      <td>1825497</td>\n",
       "      <td>0.296565</td>\n",
       "      <td>129</td>\n",
       "      <td>21</td>\n",
       "    </tr>\n",
       "    <tr>\n",
       "      <th>Coalition of the Radical Left</th>\n",
       "      <td>1655022</td>\n",
       "      <td>0.268870</td>\n",
       "      <td>71</td>\n",
       "      <td>19</td>\n",
       "    </tr>\n",
       "    <tr>\n",
       "      <th>Panhellenic Socialist Movement</th>\n",
       "      <td>756024</td>\n",
       "      <td>0.122822</td>\n",
       "      <td>33</td>\n",
       "      <td>-8</td>\n",
       "    </tr>\n",
       "    <tr>\n",
       "      <th>Independent Greeks</th>\n",
       "      <td>462406</td>\n",
       "      <td>0.075121</td>\n",
       "      <td>20</td>\n",
       "      <td>-13</td>\n",
       "    </tr>\n",
       "    <tr>\n",
       "      <th>Popular Association-Golden Dawn</th>\n",
       "      <td>426025</td>\n",
       "      <td>0.069211</td>\n",
       "      <td>18</td>\n",
       "      <td>-3</td>\n",
       "    </tr>\n",
       "    <tr>\n",
       "      <th>Democratic Left</th>\n",
       "      <td>384986</td>\n",
       "      <td>0.062544</td>\n",
       "      <td>17</td>\n",
       "      <td>-2</td>\n",
       "    </tr>\n",
       "    <tr>\n",
       "      <th>Communist Party of Greece</th>\n",
       "      <td>277227</td>\n",
       "      <td>0.045038</td>\n",
       "      <td>12</td>\n",
       "      <td>-14</td>\n",
       "    </tr>\n",
       "    <tr>\n",
       "      <th>Recreate Greece-Action-Liberal Alliance</th>\n",
       "      <td>98140</td>\n",
       "      <td>0.015944</td>\n",
       "      <td>0</td>\n",
       "      <td>0</td>\n",
       "    </tr>\n",
       "    <tr>\n",
       "      <th>Popular Orthodox Rally</th>\n",
       "      <td>97099</td>\n",
       "      <td>0.015774</td>\n",
       "      <td>0</td>\n",
       "      <td>0</td>\n",
       "    </tr>\n",
       "    <tr>\n",
       "      <th>Ecologist Greens</th>\n",
       "      <td>54408</td>\n",
       "      <td>0.008839</td>\n",
       "      <td>0</td>\n",
       "      <td>0</td>\n",
       "    </tr>\n",
       "    <tr>\n",
       "      <th>I Don't Pay Movement</th>\n",
       "      <td>23699</td>\n",
       "      <td>0.003850</td>\n",
       "      <td>0</td>\n",
       "      <td>0</td>\n",
       "    </tr>\n",
       "    <tr>\n",
       "      <th>Front of the Greek Anticapitalist Left</th>\n",
       "      <td>20416</td>\n",
       "      <td>0.003317</td>\n",
       "      <td>0</td>\n",
       "      <td>0</td>\n",
       "    </tr>\n",
       "    <tr>\n",
       "      <th>Society-Political Party of the Successors of Kapodistrias</th>\n",
       "      <td>17770</td>\n",
       "      <td>0.002887</td>\n",
       "      <td>0</td>\n",
       "      <td>0</td>\n",
       "    </tr>\n",
       "    <tr>\n",
       "      <th>Union of Centrists</th>\n",
       "      <td>17145</td>\n",
       "      <td>0.002785</td>\n",
       "      <td>0</td>\n",
       "      <td>0</td>\n",
       "    </tr>\n",
       "    <tr>\n",
       "      <th>Pirate Party of Greece</th>\n",
       "      <td>14170</td>\n",
       "      <td>0.002302</td>\n",
       "      <td>0</td>\n",
       "      <td>0</td>\n",
       "    </tr>\n",
       "    <tr>\n",
       "      <th>Panathinaikos Movement</th>\n",
       "      <td>12459</td>\n",
       "      <td>0.002024</td>\n",
       "      <td>0</td>\n",
       "      <td>0</td>\n",
       "    </tr>\n",
       "    <tr>\n",
       "      <th>Marxist–Leninist Communist Parties of Greece</th>\n",
       "      <td>7592</td>\n",
       "      <td>0.001233</td>\n",
       "      <td>0</td>\n",
       "      <td>0</td>\n",
       "    </tr>\n",
       "    <tr>\n",
       "      <th>National Hope</th>\n",
       "      <td>4290</td>\n",
       "      <td>0.000697</td>\n",
       "      <td>0</td>\n",
       "      <td>0</td>\n",
       "    </tr>\n",
       "    <tr>\n",
       "      <th>Liberal Party</th>\n",
       "      <td>623</td>\n",
       "      <td>0.000101</td>\n",
       "      <td>0</td>\n",
       "      <td>0</td>\n",
       "    </tr>\n",
       "    <tr>\n",
       "      <th>National Resistance Movement</th>\n",
       "      <td>81</td>\n",
       "      <td>0.000013</td>\n",
       "      <td>0</td>\n",
       "      <td>0</td>\n",
       "    </tr>\n",
       "    <tr>\n",
       "      <th>Panagrarian Labour Movement of Greece</th>\n",
       "      <td>0</td>\n",
       "      <td>0.000000</td>\n",
       "      <td>0</td>\n",
       "      <td>0</td>\n",
       "    </tr>\n",
       "    <tr>\n",
       "      <th>Independent candidates</th>\n",
       "      <td>385</td>\n",
       "      <td>0.000063</td>\n",
       "      <td>0</td>\n",
       "      <td>0</td>\n",
       "    </tr>\n",
       "  </tbody>\n",
       "</table>\n",
       "</div>"
      ],
      "text/plain": [
       "                                                      votes  votes_per  seats  \\\n",
       "party                                                                           \n",
       "New Democracy                                       1825497   0.296565    129   \n",
       "Coalition of the Radical Left                       1655022   0.268870     71   \n",
       "Panhellenic Socialist Movement                       756024   0.122822     33   \n",
       "Independent Greeks                                   462406   0.075121     20   \n",
       "Popular Association-Golden Dawn                      426025   0.069211     18   \n",
       "Democratic Left                                      384986   0.062544     17   \n",
       "Communist Party of Greece                            277227   0.045038     12   \n",
       "Recreate Greece-Action-Liberal Alliance               98140   0.015944      0   \n",
       "Popular Orthodox Rally                                97099   0.015774      0   \n",
       "Ecologist Greens                                      54408   0.008839      0   \n",
       "I Don't Pay Movement                                  23699   0.003850      0   \n",
       "Front of the Greek Anticapitalist Left                20416   0.003317      0   \n",
       "Society-Political Party of the Successors of Ka...    17770   0.002887      0   \n",
       "Union of Centrists                                    17145   0.002785      0   \n",
       "Pirate Party of Greece                                14170   0.002302      0   \n",
       "Panathinaikos Movement                                12459   0.002024      0   \n",
       "Marxist–Leninist Communist Parties of Greece           7592   0.001233      0   \n",
       "National Hope                                          4290   0.000697      0   \n",
       "Liberal Party                                           623   0.000101      0   \n",
       "National Resistance Movement                             81   0.000013      0   \n",
       "Panagrarian Labour Movement of Greece                     0   0.000000      0   \n",
       "Independent candidates                                  385   0.000063      0   \n",
       "\n",
       "                                                    diff  \n",
       "party                                                     \n",
       "New Democracy                                         21  \n",
       "Coalition of the Radical Left                         19  \n",
       "Panhellenic Socialist Movement                        -8  \n",
       "Independent Greeks                                   -13  \n",
       "Popular Association-Golden Dawn                       -3  \n",
       "Democratic Left                                       -2  \n",
       "Communist Party of Greece                            -14  \n",
       "Recreate Greece-Action-Liberal Alliance                0  \n",
       "Popular Orthodox Rally                                 0  \n",
       "Ecologist Greens                                       0  \n",
       "I Don't Pay Movement                                   0  \n",
       "Front of the Greek Anticapitalist Left                 0  \n",
       "Society-Political Party of the Successors of Ka...     0  \n",
       "Union of Centrists                                     0  \n",
       "Pirate Party of Greece                                 0  \n",
       "Panathinaikos Movement                                 0  \n",
       "Marxist–Leninist Communist Parties of Greece           0  \n",
       "National Hope                                          0  \n",
       "Liberal Party                                          0  \n",
       "National Resistance Movement                           0  \n",
       "Panagrarian Labour Movement of Greece                  0  \n",
       "Independent candidates                                 0  "
      ]
     },
     "execution_count": 3,
     "metadata": {},
     "output_type": "execute_result"
    }
   ],
   "source": [
    "data"
   ]
  },
  {
   "cell_type": "markdown",
   "metadata": {},
   "source": [
    "## Подсчёт ENV, ENS, DEV, RRP [задание 1]"
   ]
  },
  {
   "cell_type": "markdown",
   "metadata": {},
   "source": [
    "Зададим функции, которые помогут подсчитать необходимые показатели"
   ]
  },
  {
   "cell_type": "code",
   "execution_count": 4,
   "metadata": {},
   "outputs": [],
   "source": [
    "def ENV(voters_share: np.array or pd.Series):\n",
    "    return 1/np.sum(voters_share**2)\n",
    "\n",
    "def ENS(seats: np.array or pd.Series):\n",
    "    return 1/np.sum((seats/sum(seats))**2)\n",
    "\n",
    "def RRP(voters_share: np.array or pd.Series, seats: np.array or pd.Series):\n",
    "    return (ENV(voters_share) - ENS(seats))/ENS(seats)\n",
    "\n",
    "def DEV(voters_share: np.array or pd.Series, seats: np.array or pd.Series):\n",
    "    return np.sum(abs(voters_share - seats/sum(seats)))"
   ]
  },
  {
   "cell_type": "code",
   "execution_count": 5,
   "metadata": {},
   "outputs": [],
   "source": [
    "env = ENV(data.votes_per[parties])\n",
    "ens = ENS(data.seats[parties])\n",
    "dev = DEV(data.votes_per[parties], data.seats[parties])\n",
    "rrp = RRP(data.votes_per[parties], data.seats[parties])"
   ]
  },
  {
   "cell_type": "markdown",
   "metadata": {},
   "source": [
    "### Результат"
   ]
  },
  {
   "cell_type": "code",
   "execution_count": 6,
   "metadata": {},
   "outputs": [
    {
     "name": "stdout",
     "output_type": "stream",
     "text": [
      "ENV: 5.2 \n",
      "ENS: 3.76 \n",
      "Dev(%): 26.69 \n",
      "RRP(%): 38.23\n"
     ]
    }
   ],
   "source": [
    "print('ENV:', round(env, 2), '\\nENS:', round(ens, 2), '\\nDev(%):', round(dev*100, 2), '\\nRRP(%):', round(rrp*100,2))"
   ]
  },
  {
   "cell_type": "markdown",
   "metadata": {},
   "source": [
    "## Партии, получившие места в парламенте"
   ]
  },
  {
   "cell_type": "code",
   "execution_count": 7,
   "metadata": {},
   "outputs": [],
   "source": [
    "members = data[(data.seats > 0) & (data.seats < 300)].copy()"
   ]
  },
  {
   "cell_type": "code",
   "execution_count": 8,
   "metadata": {},
   "outputs": [
    {
     "data": {
      "text/html": [
       "<div>\n",
       "<style scoped>\n",
       "    .dataframe tbody tr th:only-of-type {\n",
       "        vertical-align: middle;\n",
       "    }\n",
       "\n",
       "    .dataframe tbody tr th {\n",
       "        vertical-align: top;\n",
       "    }\n",
       "\n",
       "    .dataframe thead th {\n",
       "        text-align: right;\n",
       "    }\n",
       "</style>\n",
       "<table border=\"1\" class=\"dataframe\">\n",
       "  <thead>\n",
       "    <tr style=\"text-align: right;\">\n",
       "      <th></th>\n",
       "      <th>votes</th>\n",
       "      <th>votes_per</th>\n",
       "      <th>seats</th>\n",
       "      <th>diff</th>\n",
       "    </tr>\n",
       "    <tr>\n",
       "      <th>party</th>\n",
       "      <th></th>\n",
       "      <th></th>\n",
       "      <th></th>\n",
       "      <th></th>\n",
       "    </tr>\n",
       "  </thead>\n",
       "  <tbody>\n",
       "    <tr>\n",
       "      <th>New Democracy</th>\n",
       "      <td>1825497</td>\n",
       "      <td>0.296565</td>\n",
       "      <td>129</td>\n",
       "      <td>21</td>\n",
       "    </tr>\n",
       "    <tr>\n",
       "      <th>Coalition of the Radical Left</th>\n",
       "      <td>1655022</td>\n",
       "      <td>0.268870</td>\n",
       "      <td>71</td>\n",
       "      <td>19</td>\n",
       "    </tr>\n",
       "    <tr>\n",
       "      <th>Panhellenic Socialist Movement</th>\n",
       "      <td>756024</td>\n",
       "      <td>0.122822</td>\n",
       "      <td>33</td>\n",
       "      <td>-8</td>\n",
       "    </tr>\n",
       "    <tr>\n",
       "      <th>Independent Greeks</th>\n",
       "      <td>462406</td>\n",
       "      <td>0.075121</td>\n",
       "      <td>20</td>\n",
       "      <td>-13</td>\n",
       "    </tr>\n",
       "    <tr>\n",
       "      <th>Popular Association-Golden Dawn</th>\n",
       "      <td>426025</td>\n",
       "      <td>0.069211</td>\n",
       "      <td>18</td>\n",
       "      <td>-3</td>\n",
       "    </tr>\n",
       "    <tr>\n",
       "      <th>Democratic Left</th>\n",
       "      <td>384986</td>\n",
       "      <td>0.062544</td>\n",
       "      <td>17</td>\n",
       "      <td>-2</td>\n",
       "    </tr>\n",
       "    <tr>\n",
       "      <th>Communist Party of Greece</th>\n",
       "      <td>277227</td>\n",
       "      <td>0.045038</td>\n",
       "      <td>12</td>\n",
       "      <td>-14</td>\n",
       "    </tr>\n",
       "  </tbody>\n",
       "</table>\n",
       "</div>"
      ],
      "text/plain": [
       "                                   votes  votes_per  seats  diff\n",
       "party                                                           \n",
       "New Democracy                    1825497   0.296565    129    21\n",
       "Coalition of the Radical Left    1655022   0.268870     71    19\n",
       "Panhellenic Socialist Movement    756024   0.122822     33    -8\n",
       "Independent Greeks                462406   0.075121     20   -13\n",
       "Popular Association-Golden Dawn   426025   0.069211     18    -3\n",
       "Democratic Left                   384986   0.062544     17    -2\n",
       "Communist Party of Greece         277227   0.045038     12   -14"
      ]
     },
     "execution_count": 8,
     "metadata": {},
     "output_type": "execute_result"
    }
   ],
   "source": [
    "members"
   ]
  },
  {
   "cell_type": "markdown",
   "metadata": {},
   "source": [
    "## Предложение по голосованию [задание 2]"
   ]
  },
  {
   "cell_type": "markdown",
   "metadata": {},
   "source": [
    "В этой части задания я внесу два предложения и покажу, как они поменяют Dev и RRP на имеющихся данных."
   ]
  },
  {
   "cell_type": "markdown",
   "metadata": {},
   "source": [
    "### Предложение 1:  \n",
    "Распределять места не между теми партиями, которые набрали хотя бы 3% голосов, а опустить этот порог до 1%."
   ]
  },
  {
   "cell_type": "code",
   "execution_count": 56,
   "metadata": {},
   "outputs": [
    {
     "data": {
      "text/html": [
       "<div>\n",
       "<style scoped>\n",
       "    .dataframe tbody tr th:only-of-type {\n",
       "        vertical-align: middle;\n",
       "    }\n",
       "\n",
       "    .dataframe tbody tr th {\n",
       "        vertical-align: top;\n",
       "    }\n",
       "\n",
       "    .dataframe thead th {\n",
       "        text-align: right;\n",
       "    }\n",
       "</style>\n",
       "<table border=\"1\" class=\"dataframe\">\n",
       "  <thead>\n",
       "    <tr style=\"text-align: right;\">\n",
       "      <th></th>\n",
       "      <th>votes</th>\n",
       "      <th>votes_per</th>\n",
       "      <th>seats</th>\n",
       "    </tr>\n",
       "    <tr>\n",
       "      <th>party</th>\n",
       "      <th></th>\n",
       "      <th></th>\n",
       "      <th></th>\n",
       "    </tr>\n",
       "  </thead>\n",
       "  <tbody>\n",
       "    <tr>\n",
       "      <th>New Democracy</th>\n",
       "      <td>1825497</td>\n",
       "      <td>0.296565</td>\n",
       "      <td>126.0</td>\n",
       "    </tr>\n",
       "    <tr>\n",
       "      <th>Coalition of the Radical Left</th>\n",
       "      <td>1655022</td>\n",
       "      <td>0.268870</td>\n",
       "      <td>69.0</td>\n",
       "    </tr>\n",
       "    <tr>\n",
       "      <th>Panhellenic Socialist Movement</th>\n",
       "      <td>756024</td>\n",
       "      <td>0.122822</td>\n",
       "      <td>32.0</td>\n",
       "    </tr>\n",
       "    <tr>\n",
       "      <th>Independent Greeks</th>\n",
       "      <td>462406</td>\n",
       "      <td>0.075121</td>\n",
       "      <td>19.0</td>\n",
       "    </tr>\n",
       "    <tr>\n",
       "      <th>Popular Association-Golden Dawn</th>\n",
       "      <td>426025</td>\n",
       "      <td>0.069211</td>\n",
       "      <td>18.0</td>\n",
       "    </tr>\n",
       "    <tr>\n",
       "      <th>Democratic Left</th>\n",
       "      <td>384986</td>\n",
       "      <td>0.062544</td>\n",
       "      <td>16.0</td>\n",
       "    </tr>\n",
       "    <tr>\n",
       "      <th>Communist Party of Greece</th>\n",
       "      <td>277227</td>\n",
       "      <td>0.045038</td>\n",
       "      <td>12.0</td>\n",
       "    </tr>\n",
       "    <tr>\n",
       "      <th>Recreate Greece-Action-Liberal Alliance</th>\n",
       "      <td>98140</td>\n",
       "      <td>0.015944</td>\n",
       "      <td>4.0</td>\n",
       "    </tr>\n",
       "    <tr>\n",
       "      <th>Popular Orthodox Rally</th>\n",
       "      <td>97099</td>\n",
       "      <td>0.015774</td>\n",
       "      <td>4.0</td>\n",
       "    </tr>\n",
       "    <tr>\n",
       "      <th>Ecologist Greens</th>\n",
       "      <td>54408</td>\n",
       "      <td>0.008839</td>\n",
       "      <td>0.0</td>\n",
       "    </tr>\n",
       "    <tr>\n",
       "      <th>I Don't Pay Movement</th>\n",
       "      <td>23699</td>\n",
       "      <td>0.003850</td>\n",
       "      <td>0.0</td>\n",
       "    </tr>\n",
       "    <tr>\n",
       "      <th>Front of the Greek Anticapitalist Left</th>\n",
       "      <td>20416</td>\n",
       "      <td>0.003317</td>\n",
       "      <td>0.0</td>\n",
       "    </tr>\n",
       "    <tr>\n",
       "      <th>Society-Political Party of the Successors of Kapodistrias</th>\n",
       "      <td>17770</td>\n",
       "      <td>0.002887</td>\n",
       "      <td>0.0</td>\n",
       "    </tr>\n",
       "    <tr>\n",
       "      <th>Union of Centrists</th>\n",
       "      <td>17145</td>\n",
       "      <td>0.002785</td>\n",
       "      <td>0.0</td>\n",
       "    </tr>\n",
       "    <tr>\n",
       "      <th>Pirate Party of Greece</th>\n",
       "      <td>14170</td>\n",
       "      <td>0.002302</td>\n",
       "      <td>0.0</td>\n",
       "    </tr>\n",
       "    <tr>\n",
       "      <th>Panathinaikos Movement</th>\n",
       "      <td>12459</td>\n",
       "      <td>0.002024</td>\n",
       "      <td>0.0</td>\n",
       "    </tr>\n",
       "    <tr>\n",
       "      <th>Marxist–Leninist Communist Parties of Greece</th>\n",
       "      <td>7592</td>\n",
       "      <td>0.001233</td>\n",
       "      <td>0.0</td>\n",
       "    </tr>\n",
       "    <tr>\n",
       "      <th>National Hope</th>\n",
       "      <td>4290</td>\n",
       "      <td>0.000697</td>\n",
       "      <td>0.0</td>\n",
       "    </tr>\n",
       "    <tr>\n",
       "      <th>Liberal Party</th>\n",
       "      <td>623</td>\n",
       "      <td>0.000101</td>\n",
       "      <td>0.0</td>\n",
       "    </tr>\n",
       "    <tr>\n",
       "      <th>National Resistance Movement</th>\n",
       "      <td>81</td>\n",
       "      <td>0.000013</td>\n",
       "      <td>0.0</td>\n",
       "    </tr>\n",
       "    <tr>\n",
       "      <th>Panagrarian Labour Movement of Greece</th>\n",
       "      <td>0</td>\n",
       "      <td>0.000000</td>\n",
       "      <td>0.0</td>\n",
       "    </tr>\n",
       "    <tr>\n",
       "      <th>Independent candidates</th>\n",
       "      <td>385</td>\n",
       "      <td>0.000063</td>\n",
       "      <td>0.0</td>\n",
       "    </tr>\n",
       "  </tbody>\n",
       "</table>\n",
       "</div>"
      ],
      "text/plain": [
       "                                                      votes  votes_per  seats\n",
       "party                                                                        \n",
       "New Democracy                                       1825497   0.296565  126.0\n",
       "Coalition of the Radical Left                       1655022   0.268870   69.0\n",
       "Panhellenic Socialist Movement                       756024   0.122822   32.0\n",
       "Independent Greeks                                   462406   0.075121   19.0\n",
       "Popular Association-Golden Dawn                      426025   0.069211   18.0\n",
       "Democratic Left                                      384986   0.062544   16.0\n",
       "Communist Party of Greece                            277227   0.045038   12.0\n",
       "Recreate Greece-Action-Liberal Alliance               98140   0.015944    4.0\n",
       "Popular Orthodox Rally                                97099   0.015774    4.0\n",
       "Ecologist Greens                                      54408   0.008839    0.0\n",
       "I Don't Pay Movement                                  23699   0.003850    0.0\n",
       "Front of the Greek Anticapitalist Left                20416   0.003317    0.0\n",
       "Society-Political Party of the Successors of Ka...    17770   0.002887    0.0\n",
       "Union of Centrists                                    17145   0.002785    0.0\n",
       "Pirate Party of Greece                                14170   0.002302    0.0\n",
       "Panathinaikos Movement                                12459   0.002024    0.0\n",
       "Marxist–Leninist Communist Parties of Greece           7592   0.001233    0.0\n",
       "National Hope                                          4290   0.000697    0.0\n",
       "Liberal Party                                           623   0.000101    0.0\n",
       "National Resistance Movement                             81   0.000013    0.0\n",
       "Panagrarian Labour Movement of Greece                     0   0.000000    0.0\n",
       "Independent candidates                                  385   0.000063    0.0"
      ]
     },
     "execution_count": 56,
     "metadata": {},
     "output_type": "execute_result"
    }
   ],
   "source": [
    "my_rule_members = data.loc[:, ['votes', 'votes_per', 'seats']].copy() \n",
    "my_rule_members['seats'] = np.round(my_rule_members[my_rule_members.votes_per > 0.01].votes/sum(my_rule_members[my_rule_members.votes_per > 0.01].votes)*(300-50))\n",
    "my_rule_members.fillna(0, inplace = True)\n",
    "my_rule_members.loc['New Democracy', 'seats'] = my_rule_members.loc['New Democracy', 'seats'] + 50\n",
    "my_rule_members"
   ]
  },
  {
   "cell_type": "code",
   "execution_count": 57,
   "metadata": {},
   "outputs": [],
   "source": [
    "dev_my = DEV(my_rule_members.votes_per[parties], my_rule_members.seats[parties])\n",
    "rrp_my = RRP(my_rule_members.votes_per[parties], my_rule_members.seats[parties])"
   ]
  },
  {
   "cell_type": "code",
   "execution_count": 62,
   "metadata": {},
   "outputs": [
    {
     "name": "stdout",
     "output_type": "stream",
     "text": [
      "Если порог в 3% голосов заменить на 1%, то получим:\n",
      "Dev(%): 24.69 \n",
      "RRP(%): 31.59\n"
     ]
    }
   ],
   "source": [
    "print('Если порог в 3% голосов заменить на 1%, то получим:\\nDev(%):', round(dev_my*100, 2), '\\nRRP(%):', round(rrp_my*100,2))"
   ]
  },
  {
   "cell_type": "markdown",
   "metadata": {},
   "source": [
    "### Предложение 2:  \n",
    "В добавок к предыдущему предложению, партии, которая заняла первое место, давать не 50 дополнительных мест в парламенте, а 40."
   ]
  },
  {
   "cell_type": "code",
   "execution_count": 59,
   "metadata": {},
   "outputs": [
    {
     "data": {
      "text/html": [
       "<div>\n",
       "<style scoped>\n",
       "    .dataframe tbody tr th:only-of-type {\n",
       "        vertical-align: middle;\n",
       "    }\n",
       "\n",
       "    .dataframe tbody tr th {\n",
       "        vertical-align: top;\n",
       "    }\n",
       "\n",
       "    .dataframe thead th {\n",
       "        text-align: right;\n",
       "    }\n",
       "</style>\n",
       "<table border=\"1\" class=\"dataframe\">\n",
       "  <thead>\n",
       "    <tr style=\"text-align: right;\">\n",
       "      <th></th>\n",
       "      <th>votes</th>\n",
       "      <th>votes_per</th>\n",
       "      <th>seats</th>\n",
       "    </tr>\n",
       "    <tr>\n",
       "      <th>party</th>\n",
       "      <th></th>\n",
       "      <th></th>\n",
       "      <th></th>\n",
       "    </tr>\n",
       "  </thead>\n",
       "  <tbody>\n",
       "    <tr>\n",
       "      <th>New Democracy</th>\n",
       "      <td>1825497</td>\n",
       "      <td>0.296565</td>\n",
       "      <td>119.0</td>\n",
       "    </tr>\n",
       "    <tr>\n",
       "      <th>Coalition of the Radical Left</th>\n",
       "      <td>1655022</td>\n",
       "      <td>0.268870</td>\n",
       "      <td>72.0</td>\n",
       "    </tr>\n",
       "    <tr>\n",
       "      <th>Panhellenic Socialist Movement</th>\n",
       "      <td>756024</td>\n",
       "      <td>0.122822</td>\n",
       "      <td>33.0</td>\n",
       "    </tr>\n",
       "    <tr>\n",
       "      <th>Independent Greeks</th>\n",
       "      <td>462406</td>\n",
       "      <td>0.075121</td>\n",
       "      <td>20.0</td>\n",
       "    </tr>\n",
       "    <tr>\n",
       "      <th>Popular Association-Golden Dawn</th>\n",
       "      <td>426025</td>\n",
       "      <td>0.069211</td>\n",
       "      <td>19.0</td>\n",
       "    </tr>\n",
       "    <tr>\n",
       "      <th>Democratic Left</th>\n",
       "      <td>384986</td>\n",
       "      <td>0.062544</td>\n",
       "      <td>17.0</td>\n",
       "    </tr>\n",
       "    <tr>\n",
       "      <th>Communist Party of Greece</th>\n",
       "      <td>277227</td>\n",
       "      <td>0.045038</td>\n",
       "      <td>12.0</td>\n",
       "    </tr>\n",
       "    <tr>\n",
       "      <th>Recreate Greece-Action-Liberal Alliance</th>\n",
       "      <td>98140</td>\n",
       "      <td>0.015944</td>\n",
       "      <td>4.0</td>\n",
       "    </tr>\n",
       "    <tr>\n",
       "      <th>Popular Orthodox Rally</th>\n",
       "      <td>97099</td>\n",
       "      <td>0.015774</td>\n",
       "      <td>4.0</td>\n",
       "    </tr>\n",
       "    <tr>\n",
       "      <th>Ecologist Greens</th>\n",
       "      <td>54408</td>\n",
       "      <td>0.008839</td>\n",
       "      <td>0.0</td>\n",
       "    </tr>\n",
       "    <tr>\n",
       "      <th>I Don't Pay Movement</th>\n",
       "      <td>23699</td>\n",
       "      <td>0.003850</td>\n",
       "      <td>0.0</td>\n",
       "    </tr>\n",
       "    <tr>\n",
       "      <th>Front of the Greek Anticapitalist Left</th>\n",
       "      <td>20416</td>\n",
       "      <td>0.003317</td>\n",
       "      <td>0.0</td>\n",
       "    </tr>\n",
       "    <tr>\n",
       "      <th>Society-Political Party of the Successors of Kapodistrias</th>\n",
       "      <td>17770</td>\n",
       "      <td>0.002887</td>\n",
       "      <td>0.0</td>\n",
       "    </tr>\n",
       "    <tr>\n",
       "      <th>Union of Centrists</th>\n",
       "      <td>17145</td>\n",
       "      <td>0.002785</td>\n",
       "      <td>0.0</td>\n",
       "    </tr>\n",
       "    <tr>\n",
       "      <th>Pirate Party of Greece</th>\n",
       "      <td>14170</td>\n",
       "      <td>0.002302</td>\n",
       "      <td>0.0</td>\n",
       "    </tr>\n",
       "    <tr>\n",
       "      <th>Panathinaikos Movement</th>\n",
       "      <td>12459</td>\n",
       "      <td>0.002024</td>\n",
       "      <td>0.0</td>\n",
       "    </tr>\n",
       "    <tr>\n",
       "      <th>Marxist–Leninist Communist Parties of Greece</th>\n",
       "      <td>7592</td>\n",
       "      <td>0.001233</td>\n",
       "      <td>0.0</td>\n",
       "    </tr>\n",
       "    <tr>\n",
       "      <th>National Hope</th>\n",
       "      <td>4290</td>\n",
       "      <td>0.000697</td>\n",
       "      <td>0.0</td>\n",
       "    </tr>\n",
       "    <tr>\n",
       "      <th>Liberal Party</th>\n",
       "      <td>623</td>\n",
       "      <td>0.000101</td>\n",
       "      <td>0.0</td>\n",
       "    </tr>\n",
       "    <tr>\n",
       "      <th>National Resistance Movement</th>\n",
       "      <td>81</td>\n",
       "      <td>0.000013</td>\n",
       "      <td>0.0</td>\n",
       "    </tr>\n",
       "    <tr>\n",
       "      <th>Panagrarian Labour Movement of Greece</th>\n",
       "      <td>0</td>\n",
       "      <td>0.000000</td>\n",
       "      <td>0.0</td>\n",
       "    </tr>\n",
       "    <tr>\n",
       "      <th>Independent candidates</th>\n",
       "      <td>385</td>\n",
       "      <td>0.000063</td>\n",
       "      <td>0.0</td>\n",
       "    </tr>\n",
       "  </tbody>\n",
       "</table>\n",
       "</div>"
      ],
      "text/plain": [
       "                                                      votes  votes_per  seats\n",
       "party                                                                        \n",
       "New Democracy                                       1825497   0.296565  119.0\n",
       "Coalition of the Radical Left                       1655022   0.268870   72.0\n",
       "Panhellenic Socialist Movement                       756024   0.122822   33.0\n",
       "Independent Greeks                                   462406   0.075121   20.0\n",
       "Popular Association-Golden Dawn                      426025   0.069211   19.0\n",
       "Democratic Left                                      384986   0.062544   17.0\n",
       "Communist Party of Greece                            277227   0.045038   12.0\n",
       "Recreate Greece-Action-Liberal Alliance               98140   0.015944    4.0\n",
       "Popular Orthodox Rally                                97099   0.015774    4.0\n",
       "Ecologist Greens                                      54408   0.008839    0.0\n",
       "I Don't Pay Movement                                  23699   0.003850    0.0\n",
       "Front of the Greek Anticapitalist Left                20416   0.003317    0.0\n",
       "Society-Political Party of the Successors of Ka...    17770   0.002887    0.0\n",
       "Union of Centrists                                    17145   0.002785    0.0\n",
       "Pirate Party of Greece                                14170   0.002302    0.0\n",
       "Panathinaikos Movement                                12459   0.002024    0.0\n",
       "Marxist–Leninist Communist Parties of Greece           7592   0.001233    0.0\n",
       "National Hope                                          4290   0.000697    0.0\n",
       "Liberal Party                                           623   0.000101    0.0\n",
       "National Resistance Movement                             81   0.000013    0.0\n",
       "Panagrarian Labour Movement of Greece                     0   0.000000    0.0\n",
       "Independent candidates                                  385   0.000063    0.0"
      ]
     },
     "execution_count": 59,
     "metadata": {},
     "output_type": "execute_result"
    }
   ],
   "source": [
    "my_rule_members = data.loc[:, ['votes', 'votes_per', 'seats']].copy() \n",
    "my_rule_members['seats'] = np.round(my_rule_members[my_rule_members.votes_per > 0.01].votes/sum(my_rule_members[my_rule_members.votes_per > 0.01].votes)*(300-40))\n",
    "my_rule_members.fillna(0, inplace = True)\n",
    "my_rule_members.loc['New Democracy', 'seats'] = my_rule_members.loc['New Democracy', 'seats'] + 40\n",
    "my_rule_members"
   ]
  },
  {
   "cell_type": "code",
   "execution_count": 60,
   "metadata": {},
   "outputs": [],
   "source": [
    "dev_my_40 = DEV(my_rule_members.votes_per[parties], my_rule_members.seats[parties])\n",
    "rrp_my_40 = RRP(my_rule_members.votes_per[parties], my_rule_members.seats[parties])"
   ]
  },
  {
   "cell_type": "code",
   "execution_count": 63,
   "metadata": {},
   "outputs": [
    {
     "name": "stdout",
     "output_type": "stream",
     "text": [
      "Если порог прохождения: 1% голосов, и плюс к этому победителю добавляют не 50, а 40 мест, то получим:\n",
      "Dev(%): 20.02 \n",
      "RRP(%): 25.13\n"
     ]
    }
   ],
   "source": [
    "print('Если порог прохождения: 1% голосов, и плюс к этому победителю добавляют не 50, а 40 мест, то получим:\\nDev(%):', round(dev_my_40*100, 2), '\\nRRP(%):', round(rrp_my_40*100,2))"
   ]
  },
  {
   "cell_type": "markdown",
   "metadata": {},
   "source": [
    "## Коалиции"
   ]
  },
  {
   "cell_type": "markdown",
   "metadata": {},
   "source": [
    "Далее для упрощения работы я создам следующие списки: все коалиции (all_coalitions), выигрывающие коалиции (winning_coalitions), минимальные выигрывающие коалиции (minimal_winning_coalitions). В дальнейшем они необходимы для расчёта индексов."
   ]
  },
  {
   "cell_type": "markdown",
   "metadata": {},
   "source": [
    "### Все коалиции"
   ]
  },
  {
   "cell_type": "code",
   "execution_count": 9,
   "metadata": {},
   "outputs": [],
   "source": [
    "all_coalitions = []\n",
    "for i in range(1, len(members.index)+1):\n",
    "    all_coalitions += [list(j) for j in combinations(members.index, i)]"
   ]
  },
  {
   "cell_type": "markdown",
   "metadata": {},
   "source": [
    "### Выигрывающие коалиции"
   ]
  },
  {
   "cell_type": "code",
   "execution_count": 10,
   "metadata": {},
   "outputs": [],
   "source": [
    "winning_coalitions = [coalition for coalition in all_coalitions if sum(members.seats[coalition]) > 150]"
   ]
  },
  {
   "cell_type": "markdown",
   "metadata": {},
   "source": [
    "### Минимальные выигрывающие коалиции"
   ]
  },
  {
   "cell_type": "code",
   "execution_count": 11,
   "metadata": {},
   "outputs": [],
   "source": [
    "minimal_winning_coalitions = []\n",
    "for coalition in winning_coalitions:\n",
    "    n = sum(members.seats[coalition])\n",
    "    notmin = False\n",
    "    for member in coalition:\n",
    "        if n - members.seats[member] > 150:\n",
    "            notmin = True\n",
    "            break\n",
    "    if not notmin:\n",
    "        minimal_winning_coalitions.append(coalition) "
   ]
  },
  {
   "cell_type": "markdown",
   "metadata": {},
   "source": [
    "## Подсчёт индексов [задание 3]"
   ]
  },
  {
   "cell_type": "markdown",
   "metadata": {},
   "source": [
    "Набор партий:"
   ]
  },
  {
   "cell_type": "code",
   "execution_count": 12,
   "metadata": {},
   "outputs": [
    {
     "data": {
      "text/plain": [
       "Index(['New Democracy', 'Coalition of the Radical Left',\n",
       "       'Panhellenic Socialist Movement', 'Independent Greeks',\n",
       "       'Popular Association-Golden Dawn', 'Democratic Left',\n",
       "       'Communist Party of Greece'],\n",
       "      dtype='object', name='party')"
      ]
     },
     "execution_count": 12,
     "metadata": {},
     "output_type": "execute_result"
    }
   ],
   "source": [
    "members.index"
   ]
  },
  {
   "cell_type": "markdown",
   "metadata": {},
   "source": [
    "### Индекс Банцафа"
   ]
  },
  {
   "cell_type": "code",
   "execution_count": 13,
   "metadata": {},
   "outputs": [
    {
     "data": {
      "text/plain": [
       "array([0.55102041, 0.10204082, 0.10204082, 0.06122449, 0.06122449,\n",
       "       0.06122449, 0.06122449])"
      ]
     },
     "execution_count": 13,
     "metadata": {},
     "output_type": "execute_result"
    }
   ],
   "source": [
    "#Находим для каждой партии число коалиций, в которых она является ключевой\n",
    "b = np.array([])\n",
    "for member in members.index:\n",
    "    b_member = 0\n",
    "    for coalition in winning_coalitions:\n",
    "        if (member in coalition) and (sum(members.seats[coalition]) - members.seats[member] <= 150):\n",
    "            b_member += 1\n",
    "    b = np.append(b, b_member)\n",
    "\n",
    "#Считаем индекс Банцафа\n",
    "bancaf = b/sum(b)\n",
    "bancaf"
   ]
  },
  {
   "cell_type": "markdown",
   "metadata": {},
   "source": [
    "### Индекс Шепли-Шубика"
   ]
  },
  {
   "cell_type": "code",
   "execution_count": 14,
   "metadata": {},
   "outputs": [
    {
     "data": {
      "text/plain": [
       "array([0.52380952, 0.12380952, 0.12380952, 0.05714286, 0.05714286,\n",
       "       0.05714286, 0.05714286])"
      ]
     },
     "execution_count": 14,
     "metadata": {},
     "output_type": "execute_result"
    }
   ],
   "source": [
    "#Считаем индекс Шепли-Шубика\n",
    "phi = np.array([])\n",
    "for member in members.index:\n",
    "    phi_member = 0\n",
    "    for coalition in winning_coalitions:\n",
    "        if (member in coalition) and (sum(members.seats[coalition]) - members.seats[member] <= 150):\n",
    "            phi_member += m.factorial(len(members.index) - len(coalition))*m.factorial(len(coalition)-1)\\\n",
    "                        /m.factorial(len(members.index))\n",
    "    phi = np.append(phi, phi_member)\n",
    "\n",
    "phi"
   ]
  },
  {
   "cell_type": "markdown",
   "metadata": {},
   "source": [
    "### Общий индекс Джонсона"
   ]
  },
  {
   "cell_type": "code",
   "execution_count": 15,
   "metadata": {},
   "outputs": [],
   "source": [
    "key_members_in_winning_coalitions = []\n",
    "for coalition in winning_coalitions:\n",
    "    key_members = 0\n",
    "    for member in coalition:\n",
    "        if sum(members.seats[coalition]) - members.seats[member] <= 150:\n",
    "            key_members += 1\n",
    "    key_members_in_winning_coalitions.append(key_members)"
   ]
  },
  {
   "cell_type": "code",
   "execution_count": 16,
   "metadata": {},
   "outputs": [
    {
     "data": {
      "text/plain": [
       "array([45. ,  3.8,  3.8,  1.6,  1.6,  1.6,  1.6])"
      ]
     },
     "execution_count": 16,
     "metadata": {},
     "output_type": "execute_result"
    }
   ],
   "source": [
    "TJI = np.array([])\n",
    "for member in members.index:\n",
    "    TJI_member = 0\n",
    "    for i in range(len(winning_coalitions)):\n",
    "        if (member in winning_coalitions[i]) and (sum(members.seats[winning_coalitions[i]]) - members.seats[member] <= 150):\n",
    "            TJI_member += 1/key_members_in_winning_coalitions[i]\n",
    "    TJI = np.append(TJI, TJI_member)\n",
    "TJI "
   ]
  },
  {
   "cell_type": "markdown",
   "metadata": {},
   "source": [
    "### Индекс влияния конкретной партии Джонсона"
   ]
  },
  {
   "cell_type": "markdown",
   "metadata": {},
   "source": [
    "На основе рассчитанного ранее общего индекса Джонсона, рассчитываем индекс влияния конкретной партии Джонсона."
   ]
  },
  {
   "cell_type": "code",
   "execution_count": 17,
   "metadata": {},
   "outputs": [
    {
     "data": {
      "text/plain": [
       "array([0.76271186, 0.06440678, 0.06440678, 0.02711864, 0.02711864,\n",
       "       0.02711864, 0.02711864])"
      ]
     },
     "execution_count": 17,
     "metadata": {},
     "output_type": "execute_result"
    }
   ],
   "source": [
    "JI = TJI/sum(TJI)\n",
    "JI"
   ]
  },
  {
   "cell_type": "markdown",
   "metadata": {},
   "source": [
    "### Общий индекс Дигена – Пакела"
   ]
  },
  {
   "cell_type": "code",
   "execution_count": 18,
   "metadata": {},
   "outputs": [
    {
     "data": {
      "text/plain": [
       "array([3. , 1.3, 1.3, 1.6, 1.6, 1.6, 1.6])"
      ]
     },
     "execution_count": 18,
     "metadata": {},
     "output_type": "execute_result"
    }
   ],
   "source": [
    "TDPI = np.array([])\n",
    "for member in members.index:\n",
    "    TDPI_member = 0\n",
    "    for coalition in minimal_winning_coalitions:\n",
    "        if member in coalition:\n",
    "            TDPI_member += 1/len(coalition)\n",
    "    TDPI = np.append(TDPI, TDPI_member)\n",
    "TDPI"
   ]
  },
  {
   "cell_type": "markdown",
   "metadata": {},
   "source": [
    "### Индекс влияния конкретной партии Дигена – Пакела"
   ]
  },
  {
   "cell_type": "markdown",
   "metadata": {},
   "source": [
    "На основе рассчитанного ранее общего индекса Дигена – Пакела, рассчитываем индекс влияния конкретной партии Дигена – Пакела."
   ]
  },
  {
   "cell_type": "code",
   "execution_count": 19,
   "metadata": {},
   "outputs": [
    {
     "data": {
      "text/plain": [
       "array([0.25      , 0.10833333, 0.10833333, 0.13333333, 0.13333333,\n",
       "       0.13333333, 0.13333333])"
      ]
     },
     "execution_count": 19,
     "metadata": {},
     "output_type": "execute_result"
    }
   ],
   "source": [
    "DPI = TDPI/sum(TDPI)\n",
    "DPI"
   ]
  },
  {
   "cell_type": "markdown",
   "metadata": {},
   "source": [
    "### Индекс Холера – Пакела"
   ]
  },
  {
   "cell_type": "code",
   "execution_count": 20,
   "metadata": {},
   "outputs": [
    {
     "data": {
      "text/plain": [
       "array([0.19047619, 0.11904762, 0.11904762, 0.14285714, 0.14285714,\n",
       "       0.14285714, 0.14285714])"
      ]
     },
     "execution_count": 20,
     "metadata": {},
     "output_type": "execute_result"
    }
   ],
   "source": [
    "h = np.array([])\n",
    "for member in members.index:\n",
    "    h_member = 0\n",
    "    for coalition in minimal_winning_coalitions:\n",
    "        if member in coalition:\n",
    "            h_member += 1\n",
    "    h = np.append(h, h_member)\n",
    "\n",
    "HPI = h/sum(h)\n",
    "HPI"
   ]
  },
  {
   "cell_type": "markdown",
   "metadata": {},
   "source": [
    "### Таблица с подсчитанными индексами"
   ]
  },
  {
   "cell_type": "code",
   "execution_count": 21,
   "metadata": {},
   "outputs": [
    {
     "data": {
      "text/html": [
       "<div>\n",
       "<style scoped>\n",
       "    .dataframe tbody tr th:only-of-type {\n",
       "        vertical-align: middle;\n",
       "    }\n",
       "\n",
       "    .dataframe tbody tr th {\n",
       "        vertical-align: top;\n",
       "    }\n",
       "\n",
       "    .dataframe thead th {\n",
       "        text-align: right;\n",
       "    }\n",
       "</style>\n",
       "<table border=\"1\" class=\"dataframe\">\n",
       "  <thead>\n",
       "    <tr style=\"text-align: right;\">\n",
       "      <th></th>\n",
       "      <th>Banzhaf</th>\n",
       "      <th>Shapley–Shubik</th>\n",
       "      <th>TJI</th>\n",
       "      <th>JI</th>\n",
       "      <th>TDPI</th>\n",
       "      <th>DPI</th>\n",
       "      <th>HPI</th>\n",
       "    </tr>\n",
       "    <tr>\n",
       "      <th>party</th>\n",
       "      <th></th>\n",
       "      <th></th>\n",
       "      <th></th>\n",
       "      <th></th>\n",
       "      <th></th>\n",
       "      <th></th>\n",
       "      <th></th>\n",
       "    </tr>\n",
       "  </thead>\n",
       "  <tbody>\n",
       "    <tr>\n",
       "      <th>New Democracy</th>\n",
       "      <td>0.551020</td>\n",
       "      <td>0.523810</td>\n",
       "      <td>45.0</td>\n",
       "      <td>0.762712</td>\n",
       "      <td>3.0</td>\n",
       "      <td>0.250000</td>\n",
       "      <td>0.190476</td>\n",
       "    </tr>\n",
       "    <tr>\n",
       "      <th>Coalition of the Radical Left</th>\n",
       "      <td>0.102041</td>\n",
       "      <td>0.123810</td>\n",
       "      <td>3.8</td>\n",
       "      <td>0.064407</td>\n",
       "      <td>1.3</td>\n",
       "      <td>0.108333</td>\n",
       "      <td>0.119048</td>\n",
       "    </tr>\n",
       "    <tr>\n",
       "      <th>Panhellenic Socialist Movement</th>\n",
       "      <td>0.102041</td>\n",
       "      <td>0.123810</td>\n",
       "      <td>3.8</td>\n",
       "      <td>0.064407</td>\n",
       "      <td>1.3</td>\n",
       "      <td>0.108333</td>\n",
       "      <td>0.119048</td>\n",
       "    </tr>\n",
       "    <tr>\n",
       "      <th>Independent Greeks</th>\n",
       "      <td>0.061224</td>\n",
       "      <td>0.057143</td>\n",
       "      <td>1.6</td>\n",
       "      <td>0.027119</td>\n",
       "      <td>1.6</td>\n",
       "      <td>0.133333</td>\n",
       "      <td>0.142857</td>\n",
       "    </tr>\n",
       "    <tr>\n",
       "      <th>Popular Association-Golden Dawn</th>\n",
       "      <td>0.061224</td>\n",
       "      <td>0.057143</td>\n",
       "      <td>1.6</td>\n",
       "      <td>0.027119</td>\n",
       "      <td>1.6</td>\n",
       "      <td>0.133333</td>\n",
       "      <td>0.142857</td>\n",
       "    </tr>\n",
       "    <tr>\n",
       "      <th>Democratic Left</th>\n",
       "      <td>0.061224</td>\n",
       "      <td>0.057143</td>\n",
       "      <td>1.6</td>\n",
       "      <td>0.027119</td>\n",
       "      <td>1.6</td>\n",
       "      <td>0.133333</td>\n",
       "      <td>0.142857</td>\n",
       "    </tr>\n",
       "    <tr>\n",
       "      <th>Communist Party of Greece</th>\n",
       "      <td>0.061224</td>\n",
       "      <td>0.057143</td>\n",
       "      <td>1.6</td>\n",
       "      <td>0.027119</td>\n",
       "      <td>1.6</td>\n",
       "      <td>0.133333</td>\n",
       "      <td>0.142857</td>\n",
       "    </tr>\n",
       "  </tbody>\n",
       "</table>\n",
       "</div>"
      ],
      "text/plain": [
       "                                  Banzhaf  Shapley–Shubik   TJI        JI  \\\n",
       "party                                                                       \n",
       "New Democracy                    0.551020        0.523810  45.0  0.762712   \n",
       "Coalition of the Radical Left    0.102041        0.123810   3.8  0.064407   \n",
       "Panhellenic Socialist Movement   0.102041        0.123810   3.8  0.064407   \n",
       "Independent Greeks               0.061224        0.057143   1.6  0.027119   \n",
       "Popular Association-Golden Dawn  0.061224        0.057143   1.6  0.027119   \n",
       "Democratic Left                  0.061224        0.057143   1.6  0.027119   \n",
       "Communist Party of Greece        0.061224        0.057143   1.6  0.027119   \n",
       "\n",
       "                                 TDPI       DPI       HPI  \n",
       "party                                                      \n",
       "New Democracy                     3.0  0.250000  0.190476  \n",
       "Coalition of the Radical Left     1.3  0.108333  0.119048  \n",
       "Panhellenic Socialist Movement    1.3  0.108333  0.119048  \n",
       "Independent Greeks                1.6  0.133333  0.142857  \n",
       "Popular Association-Golden Dawn   1.6  0.133333  0.142857  \n",
       "Democratic Left                   1.6  0.133333  0.142857  \n",
       "Communist Party of Greece         1.6  0.133333  0.142857  "
      ]
     },
     "execution_count": 21,
     "metadata": {},
     "output_type": "execute_result"
    }
   ],
   "source": [
    "indices_df = pd.DataFrame({'Banzhaf': bancaf, 'Shapley–Shubik': phi, 'TJI': TJI, 'JI': JI, 'TDPI': TDPI, 'DPI': DPI, 'HPI': HPI}, index = members.index)\n",
    "indices_df"
   ]
  }
 ],
 "metadata": {
  "kernelspec": {
   "display_name": "Python 3",
   "language": "python",
   "name": "python3"
  },
  "language_info": {
   "codemirror_mode": {
    "name": "ipython",
    "version": 3
   },
   "file_extension": ".py",
   "mimetype": "text/x-python",
   "name": "python",
   "nbconvert_exporter": "python",
   "pygments_lexer": "ipython3",
   "version": "3.7.3"
  }
 },
 "nbformat": 4,
 "nbformat_minor": 2
}
